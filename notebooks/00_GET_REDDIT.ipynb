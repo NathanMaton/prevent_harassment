{
 "cells": [
  {
   "cell_type": "code",
   "execution_count": null,
   "metadata": {
    "ExecuteTime": {
     "end_time": "2019-02-28T23:38:15.746440Z",
     "start_time": "2019-02-28T23:38:15.628819Z"
    }
   },
   "outputs": [],
   "source": [
    "import datetime\n",
    "import json\n",
    "import requests\n",
    "import time\n",
    "from collections import defaultdict\n",
    "import pickle\n",
    "\n",
    "from pymongo import MongoClient, InsertOne, DeleteOne, ReplaceOne"
   ]
  },
  {
   "cell_type": "code",
   "execution_count": null,
   "metadata": {
    "ExecuteTime": {
     "end_time": "2019-03-01T00:35:41.401360Z",
     "start_time": "2019-03-01T00:35:41.395693Z"
    }
   },
   "outputs": [],
   "source": [
    "\n",
    "#subreddits to pull\n",
    "target_list = ['IncelTears','The_Donald','slatestarcodex','TrollXChromosomes', 'politics','mylittlepony']\n",
    "\n",
    "# Generates a list of date time needed from START to END\n",
    "start = datetime.datetime.strptime(\"01-01-2015\", \"%d-%m-%Y\")\n",
    "end = datetime.datetime.strptime(\"01-01-2019\", \"%d-%m-%Y\")\n",
    "date_generated = [\n",
    "    start + datetime.timedelta(days=x) for x in range(0, (end - start).days)]\n",
    "\n",
    "post_dict = defaultdict(list)\n",
    "\n",
    "#Connect to Mongo\n",
    "client = MongoClient()\n",
    "db = client[\"reddit\"]\n",
    "test_collection = db.get_collection('test_insert')\n",
    "titles_collection = db.get_collection('titles')"
   ]
  },
  {
   "cell_type": "code",
   "execution_count": null,
   "metadata": {
    "ExecuteTime": {
     "end_time": "2019-03-01T01:45:41.572234Z",
     "start_time": "2019-03-01T00:35:52.960818Z"
    }
   },
   "outputs": [],
   "source": [
    "# Loops through each day\n",
    "for i, date, in enumerate(date_generated):\n",
    "    print(\"Working {}\".format(date))\n",
    "    # time.sleep(1)\n",
    "    if i == len(date_generated) - 1:\n",
    "        continue\n",
    "\n",
    "    # Builds link\n",
    "    start_date = str(int(date_generated[i].timestamp()))\n",
    "    end_date = str(int(date_generated[i + 1].timestamp()))\n",
    "    link = 'https://api.pushshift.io/reddit/submission/search/?after=' + start_date + \\\n",
    "        '&before=' + end_date + '&sort_type=score&sort=desc&subreddit=' + target_list[5]\n",
    "\n",
    "    # Request data from api\n",
    "    r = requests.get(link)\n",
    "\n",
    "    # Pulls data from link into json object\n",
    "    data = json.loads(r.text)\n",
    "    # Pulls titles from each submission for that days\n",
    "    for post in data['data']: #checks to make sure we don't already have the post\n",
    "        if titles_collection.find({'id':post['id']}).count() > 0:\n",
    "            print ('dupe')\n",
    "        else:\n",
    "            titles_collection.insert_one(post)\n"
   ]
  }
 ],
 "metadata": {
  "kernelspec": {
   "display_name": "Python 3",
   "language": "python",
   "name": "python3"
  },
  "language_info": {
   "codemirror_mode": {
    "name": "ipython",
    "version": 3
   },
   "file_extension": ".py",
   "mimetype": "text/x-python",
   "name": "python",
   "nbconvert_exporter": "python",
   "pygments_lexer": "ipython3",
   "version": "3.7.1"
  }
 },
 "nbformat": 4,
 "nbformat_minor": 2
}
