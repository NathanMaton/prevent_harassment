{
 "cells": [
  {
   "cell_type": "markdown",
   "metadata": {
    "_cell_guid": "d894877c-753f-4947-a6a0-8c100b8af6b2",
    "_uuid": "3a208d285d49bbe7c35827de8416e3b7c5c061ae"
   },
   "source": [
    "## Toxic comment classification\n",
    "### Import library"
   ]
  },
  {
   "cell_type": "code",
   "execution_count": 7,
   "metadata": {
    "ExecuteTime": {
     "end_time": "2019-03-03T23:07:16.226779Z",
     "start_time": "2019-03-03T23:07:16.219984Z"
    },
    "_cell_guid": "fd0d94af-8dcd-4258-92fc-d1c304215a9a",
    "_uuid": "d2539467b6d1fa164da8c43825cd30a124eb9c47"
   },
   "outputs": [],
   "source": [
    "import pandas as pd\n",
    "import numpy as np\n",
    "import matplotlib.pyplot as plt\n",
    "import seaborn as sns\n",
    "\n",
    "from sklearn.neighbors import KNeighborsClassifier\n",
    "from sklearn.linear_model import LogisticRegression\n",
    "from sklearn.ensemble import RandomForestClassifier\n",
    "\n",
    "from sklearn.model_selection import StratifiedKFold\n",
    "from sklearn.feature_extraction.text import CountVectorizer,TfidfVectorizer\n",
    "from sklearn.metrics import log_loss,confusion_matrix,classification_report,roc_curve,auc\n",
    "from sklearn.metrics import accuracy_score, precision_score, recall_score, precision_recall_curve \n",
    "from sklearn.metrics import confusion_matrix, f1_score, fbeta_score, confusion_matrix\n",
    "\n",
    "from sklearn.model_selection import train_test_split, cross_validate\n",
    "\n",
    "from collections import Counter\n",
    "\n",
    "import string\n",
    "import nltk\n",
    "from nltk.corpus import stopwords\n",
    "from nltk.tokenize import word_tokenize\n",
    "from scipy import sparse\n",
    "\n",
    "from imblearn.over_sampling import SMOTE\n",
    "from imblearn.over_sampling import ADASYN\n",
    "from imblearn.over_sampling import RandomOverSampler\n",
    "\n",
    "#WARNINGS\n",
    "import warnings\n",
    "warnings.filterwarnings('ignore')\n",
    "\n",
    "from pymongo import MongoClient, InsertOne, DeleteOne, ReplaceOne"
   ]
  },
  {
   "cell_type": "markdown",
   "metadata": {
    "_cell_guid": "b4043cdf-f986-42bc-ad09-ea124e152507",
    "_uuid": "6b388128bf18f28c29d66377e9deb5f1ea8067f1"
   },
   "source": [
    "## Read data set"
   ]
  },
  {
   "cell_type": "code",
   "execution_count": 8,
   "metadata": {
    "ExecuteTime": {
     "end_time": "2019-03-03T23:07:18.372188Z",
     "start_time": "2019-03-03T23:07:17.346697Z"
    },
    "_cell_guid": "7ce644b7-5332-40d7-a827-15f6897be5e8",
    "_uuid": "d1134807fc7b6c604f7fbdd42e0f27e69a834337"
   },
   "outputs": [
    {
     "name": "stdout",
     "output_type": "stream",
     "text": [
      "Number of rows and columns in the train data set: (159571, 8)\n"
     ]
    }
   ],
   "source": [
    "toxic = pd.read_csv('toxicity_data/train.csv') #there's also a test dataset but it doesn't have labels b/c kaggle.\n",
    "print('Number of rows and columns in the train data set:',toxic.shape)\n",
    "\n",
    "#unlabeled data\n",
    "incel_df = pd.read_csv('new_IncelTears_posts.csv')\n",
    "slate_df = pd.read_csv('new_slatestarcodex_posts.csv')\n",
    "\n",
    "raw_toxic = toxic\n",
    "small_toxic = toxic #can add a .sample to make things run quicker here.\n",
    "\n",
    "#turn multi-class into single class classifier\n",
    "target_col = ['toxic', 'severe_toxic', 'obscene', 'threat','insult', 'identity_hate']\n",
    "y = small_toxic[target_col]\n",
    "y['sum'] = y.sum(axis=1).astype(bool).astype(int) \n",
    "\n",
    "# try undersampling\n",
    "small_toxic['target']=y['sum']\n",
    "neg_sample = small_toxic[small_toxic['target']==0].sample(16000)\n",
    "pos_sample = small_toxic[small_toxic['target']==1].sample(16000)\n",
    "all_df = pd.concat([neg_sample,pos_sample])\n",
    "\n",
    "# this is for undersampling\n",
    "X_train, X_holdout, y_train, y_holdout = train_test_split(all_df.drop('target',axis=1), all_df['target'], test_size=0.2, random_state=42)\n",
    "X_train, X_test, y_train, y_test = train_test_split(X_train, y_train, test_size=0.2, random_state=42)"
   ]
  },
  {
   "cell_type": "markdown",
   "metadata": {
    "_cell_guid": "3a73e542-178e-4b3e-ad8c-87e9dc659762",
    "_uuid": "2daff7626ba426dbfa0172b6c3a4351af27cd4e9"
   },
   "source": [
    "## Text preprocessing - TF-IDF up to trigrams"
   ]
  },
  {
   "cell_type": "code",
   "execution_count": 9,
   "metadata": {
    "ExecuteTime": {
     "end_time": "2019-03-03T23:07:25.405233Z",
     "start_time": "2019-03-03T23:07:18.395456Z"
    },
    "_cell_guid": "93502afb-68c7-4cc2-ad03-f71d2b2cbf2a",
    "_uuid": "3d1747c73d3c67c93eb4e7e81de4400276f0580c"
   },
   "outputs": [],
   "source": [
    "vect_word = TfidfVectorizer(max_features=20000, lowercase=True, analyzer='word',\n",
    "                        stop_words= 'english',ngram_range=(1,3),dtype=np.float32)\n",
    "tr_vect = vect_word.fit_transform(X_train['comment_text'])\n",
    "ts_vect = vect_word.transform(X_test['comment_text'])\n",
    "holdout_vect = vect_word.transform(X_holdout['comment_text'])\n",
    "\n",
    "incel_vect = vect_word.transform(incel_df['title'])\n",
    "slate_vect = vect_word.transform(slate_df['title'])\n",
    "#took 30-50 seconds on 150k samples"
   ]
  },
  {
   "cell_type": "markdown",
   "metadata": {},
   "source": [
    "## Score on undersampled data"
   ]
  },
  {
   "cell_type": "code",
   "execution_count": 10,
   "metadata": {
    "ExecuteTime": {
     "end_time": "2019-03-03T23:07:43.722521Z",
     "start_time": "2019-03-03T23:07:26.787953Z"
    }
   },
   "outputs": [
    {
     "data": {
      "text/plain": [
       "{'Logistic regression': 0.8820298077668852,\n",
       " 'Random Forest': 0.8275651639316501}"
      ]
     },
     "execution_count": 10,
     "metadata": {},
     "output_type": "execute_result"
    }
   ],
   "source": [
    "def score_model(model, X_train, y_train):\n",
    "    cv_results = cross_validate(model, X_train, y_train, cv=5, scoring='f1')\n",
    "    return np.mean(cv_results['test_score'])\n",
    "\n",
    "def model_baseline(X_train, y_train):\n",
    "    \"\"\"This takes in training and validation data and runs it through\n",
    "    6 basic classification models and scores them based on recall\"\"\"\n",
    "\n",
    "    lm2 = LogisticRegression(C=2,random_state = 42,class_weight = 'balanced') #all features\n",
    "    lm2_score = score_model(lm2, X_train, y_train)\n",
    "\n",
    "    rf = RandomForestClassifier(random_state=42)\n",
    "    rf_score = score_model(rf, X_train, y_train)\n",
    "\n",
    "    res = {\n",
    "        'Logistic regression': lm2_score,\n",
    "         'Random Forest': rf_score\n",
    "    }\n",
    "    return res\n",
    "\n",
    "model_baseline(tr_vect, y_train)"
   ]
  },
  {
   "cell_type": "code",
   "execution_count": 11,
   "metadata": {
    "ExecuteTime": {
     "end_time": "2019-03-03T23:07:47.788832Z",
     "start_time": "2019-03-03T23:07:43.724705Z"
    }
   },
   "outputs": [
    {
     "data": {
      "text/plain": [
       "0.8777429467084639"
      ]
     },
     "execution_count": 11,
     "metadata": {},
     "output_type": "execute_result"
    }
   ],
   "source": [
    "from sklearn.neural_network import MLPClassifier\n",
    "clf = MLPClassifier(solver='lbfgs', alpha=1e-5,\n",
    "                    hidden_layer_sizes=(5, 2), random_state=1)\n",
    "\n",
    "clf.fit(tr_vect, y_train)\n",
    "\n",
    "pred =  clf.predict(ts_vect)\n",
    "f1_score(y_test,pred)"
   ]
  },
  {
   "cell_type": "markdown",
   "metadata": {
    "_cell_guid": "fab7e57c-fa64-4540-a53e-085f849d42ca",
    "_uuid": "b15c44a583628a0a72036536e8a5fdb67273a4ae"
   },
   "source": [
    "## Class imbalance"
   ]
  },
  {
   "cell_type": "code",
   "execution_count": 28,
   "metadata": {
    "ExecuteTime": {
     "end_time": "2019-03-03T23:17:14.181611Z",
     "start_time": "2019-03-03T23:17:14.114597Z"
    }
   },
   "outputs": [],
   "source": [
    "## Get new imbalanced.\n",
    "X_train, X_holdout, y_train, y_holdout = train_test_split(small_toxic.drop('target',axis=1), small_toxic['target'], test_size=0.2, random_state=42)\n",
    "X_train, X_test, y_train, y_test = train_test_split(X_train, y_train, test_size=0.2, random_state=42)"
   ]
  },
  {
   "cell_type": "code",
   "execution_count": 19,
   "metadata": {
    "ExecuteTime": {
     "end_time": "2019-03-03T23:10:28.735725Z",
     "start_time": "2019-03-03T23:09:47.000985Z"
    }
   },
   "outputs": [],
   "source": [
    "vect_word = TfidfVectorizer(max_features=20000, lowercase=True, analyzer='word',\n",
    "                        stop_words= 'english',ngram_range=(1,3),dtype=np.float32)\n",
    "tr_vect = vect_word.fit_transform(X_train['comment_text'])\n",
    "ts_vect = vect_word.transform(X_test['comment_text'])\n",
    "holdout_vect = vect_word.transform(X_holdout['comment_text'])\n",
    "\n",
    "incel_vect = vect_word.transform(incel_df['title'])\n",
    "slate_vect = vect_word.transform(slate_df['title'])\n",
    "#took 30-50 seconds on 150k samples"
   ]
  },
  {
   "cell_type": "code",
   "execution_count": 20,
   "metadata": {
    "ExecuteTime": {
     "end_time": "2019-03-03T23:10:45.136276Z",
     "start_time": "2019-03-03T23:10:45.131218Z"
    }
   },
   "outputs": [
    {
     "name": "stdout",
     "output_type": "stream",
     "text": [
      "0.899% of my data is non-toxic\n"
     ]
    }
   ],
   "source": [
    "non_toxic_percent = len(y_train[y_train==0])/y_train.shape[0]\n",
    "print (f'{round(non_toxic_percent,3)}% of my data is non-toxic')"
   ]
  },
  {
   "cell_type": "code",
   "execution_count": 21,
   "metadata": {
    "ExecuteTime": {
     "end_time": "2019-03-03T23:10:45.872126Z",
     "start_time": "2019-03-03T23:10:45.867167Z"
    }
   },
   "outputs": [],
   "source": [
    "def score_rf_lr(x,y):\n",
    "    rf = RandomForestClassifier(random_state=42)\n",
    "    rf.fit(x, y)\n",
    "    pred =  rf.predict(ts_vect)\n",
    "    rf_f1 = f1_score(y_test,pred)\n",
    "\n",
    "    lr = LogisticRegression(C=2,random_state = 42,class_weight = 'balanced')\n",
    "    lr.fit(x, y)\n",
    "    pred =  lr.predict(ts_vect)\n",
    "    lr_f1 = f1_score(y_test,pred)\n",
    "\n",
    "    print (f'LR F1={lr_f1}, RF F1={rf_f1}')\n",
    "    return lr_f1, rf_f1"
   ]
  },
  {
   "cell_type": "code",
   "execution_count": 22,
   "metadata": {
    "ExecuteTime": {
     "end_time": "2019-03-03T23:11:43.182880Z",
     "start_time": "2019-03-03T23:10:46.580805Z"
    }
   },
   "outputs": [
    {
     "name": "stdout",
     "output_type": "stream",
     "text": [
      "LR F1=0.731763925729443, RF F1=0.6665294359818855\n"
     ]
    },
    {
     "data": {
      "text/plain": [
       "(0.731763925729443, 0.6665294359818855)"
      ]
     },
     "execution_count": 22,
     "metadata": {},
     "output_type": "execute_result"
    }
   ],
   "source": [
    "#Random OverSampler - about 3x size of dataset\n",
    "ros = RandomOverSampler(random_state=42)\n",
    "X_resampled, y_resampled = ros.fit_sample(tr_vect,y_train)\n",
    "# X_resampled_df = pd.DataFrame(X_resampled)\n",
    "# model_baseline(X_resampled_df, y_resampled)\n",
    "\n",
    "score_rf_lr(X_resampled, y_resampled)"
   ]
  },
  {
   "cell_type": "code",
   "execution_count": 23,
   "metadata": {
    "ExecuteTime": {
     "end_time": "2019-03-03T23:13:42.932893Z",
     "start_time": "2019-03-03T23:11:43.186291Z"
    }
   },
   "outputs": [
    {
     "name": "stdout",
     "output_type": "stream",
     "text": [
      "LR F1=0.6598218330061906, RF F1=0.6222910216718267\n"
     ]
    },
    {
     "data": {
      "text/plain": [
       "(0.6598218330061906, 0.6222910216718267)"
      ]
     },
     "execution_count": 23,
     "metadata": {},
     "output_type": "execute_result"
    }
   ],
   "source": [
    "X_smoted, y_smoted = SMOTE(random_state=42).fit_sample(tr_vect,y_train)\n",
    "score_rf_lr(X_smoted,y_smoted)"
   ]
  },
  {
   "cell_type": "code",
   "execution_count": 24,
   "metadata": {
    "ExecuteTime": {
     "end_time": "2019-03-03T23:15:53.309040Z",
     "start_time": "2019-03-03T23:13:42.937405Z"
    }
   },
   "outputs": [
    {
     "name": "stdout",
     "output_type": "stream",
     "text": [
      "LR F1=0.6448326055312954, RF F1=0.5999241562381494\n"
     ]
    },
    {
     "data": {
      "text/plain": [
       "(0.6448326055312954, 0.5999241562381494)"
      ]
     },
     "execution_count": 24,
     "metadata": {},
     "output_type": "execute_result"
    }
   ],
   "source": [
    "X_adasyn, y_adasyn = ADASYN(random_state=42).fit_sample(tr_vect,y_train)\n",
    "score_rf_lr(X_adasyn, y_adasyn)"
   ]
  },
  {
   "cell_type": "markdown",
   "metadata": {},
   "source": [
    "Surprisingly, none of these methods help."
   ]
  }
 ],
 "metadata": {
  "kernelspec": {
   "display_name": "Python 3",
   "language": "python",
   "name": "python3"
  },
  "language_info": {
   "codemirror_mode": {
    "name": "ipython",
    "version": 3
   },
   "file_extension": ".py",
   "mimetype": "text/x-python",
   "name": "python",
   "nbconvert_exporter": "python",
   "pygments_lexer": "ipython3",
   "version": "3.7.1"
  }
 },
 "nbformat": 4,
 "nbformat_minor": 1
}
