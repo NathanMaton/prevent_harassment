{
 "cells": [
  {
   "cell_type": "markdown",
   "metadata": {
    "_cell_guid": "d894877c-753f-4947-a6a0-8c100b8af6b2",
    "_uuid": "3a208d285d49bbe7c35827de8416e3b7c5c061ae"
   },
   "source": [
    "## Toxic comment classification\n",
    "### Import library"
   ]
  },
  {
   "cell_type": "code",
   "execution_count": 4,
   "metadata": {
    "ExecuteTime": {
     "end_time": "2019-02-26T22:03:34.085287Z",
     "start_time": "2019-02-26T22:03:34.077178Z"
    },
    "_cell_guid": "fd0d94af-8dcd-4258-92fc-d1c304215a9a",
    "_uuid": "d2539467b6d1fa164da8c43825cd30a124eb9c47"
   },
   "outputs": [],
   "source": [
    "import pandas as pd\n",
    "import numpy as np\n",
    "import matplotlib.pyplot as plt\n",
    "import seaborn as sns\n",
    "import gc\n",
    "\n",
    "from sklearn.linear_model import LogisticRegression\n",
    "from sklearn.model_selection import StratifiedKFold\n",
    "from sklearn.feature_extraction.text import CountVectorizer,TfidfVectorizer\n",
    "from sklearn.decomposition import TruncatedSVD\n",
    "from sklearn.metrics import log_loss,confusion_matrix,classification_report,roc_curve,auc\n",
    "\n",
    "import string\n",
    "import nltk\n",
    "from nltk.corpus import stopwords\n",
    "from nltk.tokenize import word_tokenize\n",
    "from scipy import sparse\n",
    "%matplotlib inline\n",
    "seed = 42\n",
    "import os\n",
    "os.environ['OMP_NUM_THREADS'] = '4'\n"
   ]
  },
  {
   "cell_type": "markdown",
   "metadata": {
    "_cell_guid": "b4043cdf-f986-42bc-ad09-ea124e152507",
    "_uuid": "6b388128bf18f28c29d66377e9deb5f1ea8067f1"
   },
   "source": [
    "## Read data set"
   ]
  },
  {
   "cell_type": "code",
   "execution_count": 5,
   "metadata": {
    "ExecuteTime": {
     "end_time": "2019-02-26T22:03:36.126681Z",
     "start_time": "2019-02-26T22:03:34.608719Z"
    },
    "_cell_guid": "7ce644b7-5332-40d7-a827-15f6897be5e8",
    "_uuid": "d1134807fc7b6c604f7fbdd42e0f27e69a834337"
   },
   "outputs": [
    {
     "name": "stdout",
     "output_type": "stream",
     "text": [
      "Number of rows and columns in the train data set: (159571, 8)\n",
      "Number of rows and columns in the test data set: (153164, 2)\n"
     ]
    }
   ],
   "source": [
    "#path = 'file/'\n",
    "train = pd.read_csv('toxicity_data/train.csv')\n",
    "test = pd.read_csv('toxicity_data/test.csv')\n",
    "print('Number of rows and columns in the train data set:',train.shape)\n",
    "print('Number of rows and columns in the test data set:',test.shape)"
   ]
  },
  {
   "cell_type": "code",
   "execution_count": 6,
   "metadata": {
    "ExecuteTime": {
     "end_time": "2019-02-26T22:03:36.131515Z",
     "start_time": "2019-02-26T22:03:36.128799Z"
    },
    "_cell_guid": "eb785423-8577-48d9-a86e-4fd9481bc8f6",
    "_uuid": "84cefe22c6dfbbe24eeb0bc7c1c21fcfd3fcb740"
   },
   "outputs": [],
   "source": [
    "raw_train = train"
   ]
  },
  {
   "cell_type": "code",
   "execution_count": 7,
   "metadata": {
    "ExecuteTime": {
     "end_time": "2019-02-26T22:03:36.150079Z",
     "start_time": "2019-02-26T22:03:36.133115Z"
    },
    "_uuid": "b6310c599dd29b634e49616f307e96238dc5fbbf"
   },
   "outputs": [],
   "source": [
    "train = train.sample(5000)\n",
    "#train[train['toxic']==1].values[:5]"
   ]
  },
  {
   "cell_type": "code",
   "execution_count": 8,
   "metadata": {
    "ExecuteTime": {
     "end_time": "2019-02-26T22:03:36.156485Z",
     "start_time": "2019-02-26T22:03:36.152095Z"
    },
    "_cell_guid": "e4f801c8-e33a-4e4c-98a3-12968f901e21",
    "_uuid": "d0bf31b06e2070eb5650d5340156cf1b48ef868a"
   },
   "outputs": [],
   "source": [
    "raw_test = test"
   ]
  },
  {
   "cell_type": "code",
   "execution_count": 9,
   "metadata": {
    "ExecuteTime": {
     "end_time": "2019-02-26T22:03:36.176251Z",
     "start_time": "2019-02-26T22:03:36.158513Z"
    },
    "_uuid": "c9d2e1e263f8a21274961f85af77d4f15baf2135"
   },
   "outputs": [],
   "source": [
    "test = test.sample(5000)"
   ]
  },
  {
   "cell_type": "markdown",
   "metadata": {
    "_cell_guid": "7ec565a2-44cb-41f6-9802-529f8e18caf7",
    "_uuid": "d7572f8e731423a9316e14c902e9452481e499ea"
   },
   "source": [
    "## Target varaible distribution"
   ]
  },
  {
   "cell_type": "code",
   "execution_count": 10,
   "metadata": {
    "ExecuteTime": {
     "end_time": "2019-02-26T22:03:37.076030Z",
     "start_time": "2019-02-26T22:03:36.473751Z"
    },
    "_cell_guid": "00eb2283-6c71-49a6-a022-ec6cbe766b5f",
    "_uuid": "ca98b9659f06db8fdf772d7dc4c296e4abfbe07e"
   },
   "outputs": [
    {
     "data": {
      "image/png": "[encoded data removed]",
      "text/plain": [
       "<Figure size 1152x720 with 6 Axes>"
      ]
     },
     "metadata": {
      "needs_background": "light"
     },
     "output_type": "display_data"
    }
   ],
   "source": [
    "fig,ax = plt.subplots(2,3,figsize=(16,10))\n",
    "ax1,ax2,ax3,ax4,ax5,ax6 = ax.flatten()\n",
    "sns.countplot(train['toxic'],palette= 'magma',ax=ax1)\n",
    "sns.countplot(train['severe_toxic'], palette= 'viridis',ax=ax2)\n",
    "sns.countplot(train['obscene'], palette= 'Set1',ax=ax3)\n",
    "sns.countplot(train['threat'], palette= 'viridis',ax = ax4)\n",
    "sns.countplot(train['insult'], palette = 'magma',ax=ax5)\n",
    "sns.countplot(train['identity_hate'], palette = 'Set1', ax = ax6);"
   ]
  },
  {
   "cell_type": "markdown",
   "metadata": {
    "_cell_guid": "a5e602da-066e-43fb-91db-a4d82d1c1f62",
    "_uuid": "032e7b13a31d69671e2717b92106e1863acb2753"
   },
   "source": [
    "## Missing value"
   ]
  },
  {
   "cell_type": "code",
   "execution_count": 11,
   "metadata": {
    "ExecuteTime": {
     "end_time": "2019-02-26T22:03:37.095607Z",
     "start_time": "2019-02-26T22:03:37.080531Z"
    },
    "_cell_guid": "165e27b1-1c85-4b28-a208-7c5fc62e7d74",
    "_uuid": "92323d9f1b9ef78ecbd90d0df21258402b7a620e"
   },
   "outputs": [
    {
     "data": {
      "text/html": [
       "<div>\n",
       "<style scoped>\n",
       "    .dataframe tbody tr th:only-of-type {\n",
       "        vertical-align: middle;\n",
       "    }\n",
       "\n",
       "    .dataframe tbody tr th {\n",
       "        vertical-align: top;\n",
       "    }\n",
       "\n",
       "    .dataframe thead th {\n",
       "        text-align: right;\n",
       "    }\n",
       "</style>\n",
       "<table border=\"1\" class=\"dataframe\">\n",
       "  <thead>\n",
       "    <tr style=\"text-align: right;\">\n",
       "      <th></th>\n",
       "      <th>train</th>\n",
       "      <th>test</th>\n",
       "    </tr>\n",
       "  </thead>\n",
       "  <tbody>\n",
       "    <tr>\n",
       "      <th>id</th>\n",
       "      <td>0</td>\n",
       "      <td>0.0</td>\n",
       "    </tr>\n",
       "    <tr>\n",
       "      <th>comment_text</th>\n",
       "      <td>0</td>\n",
       "      <td>0.0</td>\n",
       "    </tr>\n",
       "    <tr>\n",
       "      <th>toxic</th>\n",
       "      <td>0</td>\n",
       "      <td>NaN</td>\n",
       "    </tr>\n",
       "    <tr>\n",
       "      <th>severe_toxic</th>\n",
       "      <td>0</td>\n",
       "      <td>NaN</td>\n",
       "    </tr>\n",
       "    <tr>\n",
       "      <th>obscene</th>\n",
       "      <td>0</td>\n",
       "      <td>NaN</td>\n",
       "    </tr>\n",
       "    <tr>\n",
       "      <th>threat</th>\n",
       "      <td>0</td>\n",
       "      <td>NaN</td>\n",
       "    </tr>\n",
       "    <tr>\n",
       "      <th>insult</th>\n",
       "      <td>0</td>\n",
       "      <td>NaN</td>\n",
       "    </tr>\n",
       "    <tr>\n",
       "      <th>identity_hate</th>\n",
       "      <td>0</td>\n",
       "      <td>NaN</td>\n",
       "    </tr>\n",
       "  </tbody>\n",
       "</table>\n",
       "</div>"
      ],
      "text/plain": [
       "               train  test\n",
       "id                 0   0.0\n",
       "comment_text       0   0.0\n",
       "toxic              0   NaN\n",
       "severe_toxic       0   NaN\n",
       "obscene            0   NaN\n",
       "threat             0   NaN\n",
       "insult             0   NaN\n",
       "identity_hate      0   NaN"
      ]
     },
     "execution_count": 11,
     "metadata": {},
     "output_type": "execute_result"
    }
   ],
   "source": [
    "k = pd.DataFrame()\n",
    "k['train'] = train.isnull().sum()\n",
    "k['test'] = test.isnull().sum()\n",
    "k"
   ]
  },
  {
   "cell_type": "code",
   "execution_count": 12,
   "metadata": {
    "ExecuteTime": {
     "end_time": "2019-02-26T22:03:37.398584Z",
     "start_time": "2019-02-26T22:03:37.384355Z"
    }
   },
   "outputs": [
    {
     "data": {
      "text/html": [
       "<div>\n",
       "<style scoped>\n",
       "    .dataframe tbody tr th:only-of-type {\n",
       "        vertical-align: middle;\n",
       "    }\n",
       "\n",
       "    .dataframe tbody tr th {\n",
       "        vertical-align: top;\n",
       "    }\n",
       "\n",
       "    .dataframe thead th {\n",
       "        text-align: right;\n",
       "    }\n",
       "</style>\n",
       "<table border=\"1\" class=\"dataframe\">\n",
       "  <thead>\n",
       "    <tr style=\"text-align: right;\">\n",
       "      <th></th>\n",
       "      <th>id</th>\n",
       "      <th>comment_text</th>\n",
       "      <th>toxic</th>\n",
       "      <th>severe_toxic</th>\n",
       "      <th>obscene</th>\n",
       "      <th>threat</th>\n",
       "      <th>insult</th>\n",
       "      <th>identity_hate</th>\n",
       "    </tr>\n",
       "  </thead>\n",
       "  <tbody>\n",
       "    <tr>\n",
       "      <th>43801</th>\n",
       "      <td>74e8643075586e2c</td>\n",
       "      <td>Miners Day \\n\\nThanks for deleting it fuck bag...</td>\n",
       "      <td>1</td>\n",
       "      <td>0</td>\n",
       "      <td>1</td>\n",
       "      <td>1</td>\n",
       "      <td>1</td>\n",
       "      <td>0</td>\n",
       "    </tr>\n",
       "    <tr>\n",
       "      <th>39044</th>\n",
       "      <td>682d322fbafdc0dd</td>\n",
       "      <td>Everybody lock ur dicks cuz theyre gay!!!</td>\n",
       "      <td>1</td>\n",
       "      <td>0</td>\n",
       "      <td>1</td>\n",
       "      <td>0</td>\n",
       "      <td>1</td>\n",
       "      <td>1</td>\n",
       "    </tr>\n",
       "    <tr>\n",
       "      <th>118439</th>\n",
       "      <td>78cc7ccedaf6597f</td>\n",
       "      <td>Bit Stupid, I can change my ip address wheneve...</td>\n",
       "      <td>1</td>\n",
       "      <td>0</td>\n",
       "      <td>0</td>\n",
       "      <td>0</td>\n",
       "      <td>1</td>\n",
       "      <td>0</td>\n",
       "    </tr>\n",
       "    <tr>\n",
       "      <th>87900</th>\n",
       "      <td>eb1e8df05d0213b4</td>\n",
       "      <td>Coward\\n\\nYou are a coward. By locking the Swi...</td>\n",
       "      <td>1</td>\n",
       "      <td>0</td>\n",
       "      <td>0</td>\n",
       "      <td>0</td>\n",
       "      <td>1</td>\n",
       "      <td>0</td>\n",
       "    </tr>\n",
       "    <tr>\n",
       "      <th>80114</th>\n",
       "      <td>d659ccc573f6e868</td>\n",
       "      <td>GO AHEAD FRANKIE ASS! AHAHAHAHAHAHAHAHAHAHAHA!</td>\n",
       "      <td>1</td>\n",
       "      <td>0</td>\n",
       "      <td>1</td>\n",
       "      <td>0</td>\n",
       "      <td>1</td>\n",
       "      <td>0</td>\n",
       "    </tr>\n",
       "    <tr>\n",
       "      <th>2179</th>\n",
       "      <td>05e7f830a1eb0a13</td>\n",
       "      <td>You\\nYou're a little bitch. You can't handle a...</td>\n",
       "      <td>1</td>\n",
       "      <td>0</td>\n",
       "      <td>1</td>\n",
       "      <td>0</td>\n",
       "      <td>1</td>\n",
       "      <td>0</td>\n",
       "    </tr>\n",
       "    <tr>\n",
       "      <th>69602</th>\n",
       "      <td>ba2a6e0032d62a9e</td>\n",
       "      <td>Ignore this idiot, this guy doesn't know anyth...</td>\n",
       "      <td>1</td>\n",
       "      <td>0</td>\n",
       "      <td>0</td>\n",
       "      <td>0</td>\n",
       "      <td>1</td>\n",
       "      <td>0</td>\n",
       "    </tr>\n",
       "    <tr>\n",
       "      <th>141337</th>\n",
       "      <td>f4277cd50a76c909</td>\n",
       "      <td>Hey \\nFuck you, you Russia-loving cunt.</td>\n",
       "      <td>1</td>\n",
       "      <td>0</td>\n",
       "      <td>1</td>\n",
       "      <td>0</td>\n",
       "      <td>1</td>\n",
       "      <td>1</td>\n",
       "    </tr>\n",
       "    <tr>\n",
       "      <th>87841</th>\n",
       "      <td>eafbde2827d823d2</td>\n",
       "      <td>giving out someones personal information, and ...</td>\n",
       "      <td>1</td>\n",
       "      <td>0</td>\n",
       "      <td>1</td>\n",
       "      <td>0</td>\n",
       "      <td>1</td>\n",
       "      <td>0</td>\n",
       "    </tr>\n",
       "    <tr>\n",
       "      <th>123787</th>\n",
       "      <td>96161f91a504b650</td>\n",
       "      <td>Fuck off \\n\\nQuit deleting my comments, read t...</td>\n",
       "      <td>1</td>\n",
       "      <td>0</td>\n",
       "      <td>1</td>\n",
       "      <td>0</td>\n",
       "      <td>1</td>\n",
       "      <td>0</td>\n",
       "    </tr>\n",
       "    <tr>\n",
       "      <th>68539</th>\n",
       "      <td>b75b7c97d04f424a</td>\n",
       "      <td>You Are One Stupid Jackass\\nI don't believe an...</td>\n",
       "      <td>1</td>\n",
       "      <td>0</td>\n",
       "      <td>1</td>\n",
       "      <td>0</td>\n",
       "      <td>1</td>\n",
       "      <td>0</td>\n",
       "    </tr>\n",
       "    <tr>\n",
       "      <th>151362</th>\n",
       "      <td>7bd908b4b4bda3c2</td>\n",
       "      <td>fuck u u stupid fagget block me i dare u</td>\n",
       "      <td>1</td>\n",
       "      <td>1</td>\n",
       "      <td>1</td>\n",
       "      <td>0</td>\n",
       "      <td>1</td>\n",
       "      <td>0</td>\n",
       "    </tr>\n",
       "    <tr>\n",
       "      <th>115292</th>\n",
       "      <td>688360529b554133</td>\n",
       "      <td>\"\\n\\nhey warrens, fuck you too. \"\"Uncivil mann...</td>\n",
       "      <td>1</td>\n",
       "      <td>0</td>\n",
       "      <td>1</td>\n",
       "      <td>0</td>\n",
       "      <td>1</td>\n",
       "      <td>0</td>\n",
       "    </tr>\n",
       "    <tr>\n",
       "      <th>137125</th>\n",
       "      <td>ddaf988f20192812</td>\n",
       "      <td>Xalwine lives! \\n\\n im'a cutcho penis off bitc...</td>\n",
       "      <td>1</td>\n",
       "      <td>0</td>\n",
       "      <td>1</td>\n",
       "      <td>0</td>\n",
       "      <td>1</td>\n",
       "      <td>0</td>\n",
       "    </tr>\n",
       "    <tr>\n",
       "      <th>7361</th>\n",
       "      <td>13913f443da71ac6</td>\n",
       "      <td>ADMINS SUCK!! \\n\\nTHE FUCKING ADMINS SUCK ASS!...</td>\n",
       "      <td>1</td>\n",
       "      <td>0</td>\n",
       "      <td>1</td>\n",
       "      <td>0</td>\n",
       "      <td>1</td>\n",
       "      <td>0</td>\n",
       "    </tr>\n",
       "    <tr>\n",
       "      <th>158507</th>\n",
       "      <td>ef00b7fda5c23918</td>\n",
       "      <td>Easy to Understand Message: \\n\\nPolitely: Plea...</td>\n",
       "      <td>1</td>\n",
       "      <td>0</td>\n",
       "      <td>1</td>\n",
       "      <td>0</td>\n",
       "      <td>1</td>\n",
       "      <td>0</td>\n",
       "    </tr>\n",
       "    <tr>\n",
       "      <th>147539</th>\n",
       "      <td>3de93567510b6c07</td>\n",
       "      <td>Is that all you can say? LoL, you're lame, boo. (</td>\n",
       "      <td>1</td>\n",
       "      <td>0</td>\n",
       "      <td>0</td>\n",
       "      <td>0</td>\n",
       "      <td>1</td>\n",
       "      <td>0</td>\n",
       "    </tr>\n",
       "    <tr>\n",
       "      <th>94954</th>\n",
       "      <td>fdd703bd9c0d2295</td>\n",
       "      <td>F**k you SuperMarioMan!\\nYou think you are suc...</td>\n",
       "      <td>1</td>\n",
       "      <td>0</td>\n",
       "      <td>1</td>\n",
       "      <td>0</td>\n",
       "      <td>1</td>\n",
       "      <td>0</td>\n",
       "    </tr>\n",
       "    <tr>\n",
       "      <th>135042</th>\n",
       "      <td>d25c16a6444485ab</td>\n",
       "      <td>\"\\n\\nFuck it\\nWikipedia is Fascism, I would be...</td>\n",
       "      <td>1</td>\n",
       "      <td>0</td>\n",
       "      <td>1</td>\n",
       "      <td>0</td>\n",
       "      <td>1</td>\n",
       "      <td>0</td>\n",
       "    </tr>\n",
       "    <tr>\n",
       "      <th>52371</th>\n",
       "      <td>8c247d1e24755955</td>\n",
       "      <td>Fuck you asshole! \\n\\nGo fuck yourself! Dirty ...</td>\n",
       "      <td>1</td>\n",
       "      <td>1</td>\n",
       "      <td>1</td>\n",
       "      <td>0</td>\n",
       "      <td>1</td>\n",
       "      <td>0</td>\n",
       "    </tr>\n",
       "  </tbody>\n",
       "</table>\n",
       "</div>"
      ],
      "text/plain": [
       "                      id                                       comment_text  \\\n",
       "43801   74e8643075586e2c  Miners Day \\n\\nThanks for deleting it fuck bag...   \n",
       "39044   682d322fbafdc0dd          Everybody lock ur dicks cuz theyre gay!!!   \n",
       "118439  78cc7ccedaf6597f  Bit Stupid, I can change my ip address wheneve...   \n",
       "87900   eb1e8df05d0213b4  Coward\\n\\nYou are a coward. By locking the Swi...   \n",
       "80114   d659ccc573f6e868     GO AHEAD FRANKIE ASS! AHAHAHAHAHAHAHAHAHAHAHA!   \n",
       "2179    05e7f830a1eb0a13  You\\nYou're a little bitch. You can't handle a...   \n",
       "69602   ba2a6e0032d62a9e  Ignore this idiot, this guy doesn't know anyth...   \n",
       "141337  f4277cd50a76c909            Hey \\nFuck you, you Russia-loving cunt.   \n",
       "87841   eafbde2827d823d2  giving out someones personal information, and ...   \n",
       "123787  96161f91a504b650  Fuck off \\n\\nQuit deleting my comments, read t...   \n",
       "68539   b75b7c97d04f424a  You Are One Stupid Jackass\\nI don't believe an...   \n",
       "151362  7bd908b4b4bda3c2           fuck u u stupid fagget block me i dare u   \n",
       "115292  688360529b554133  \"\\n\\nhey warrens, fuck you too. \"\"Uncivil mann...   \n",
       "137125  ddaf988f20192812  Xalwine lives! \\n\\n im'a cutcho penis off bitc...   \n",
       "7361    13913f443da71ac6  ADMINS SUCK!! \\n\\nTHE FUCKING ADMINS SUCK ASS!...   \n",
       "158507  ef00b7fda5c23918  Easy to Understand Message: \\n\\nPolitely: Plea...   \n",
       "147539  3de93567510b6c07  Is that all you can say? LoL, you're lame, boo. (   \n",
       "94954   fdd703bd9c0d2295  F**k you SuperMarioMan!\\nYou think you are suc...   \n",
       "135042  d25c16a6444485ab  \"\\n\\nFuck it\\nWikipedia is Fascism, I would be...   \n",
       "52371   8c247d1e24755955  Fuck you asshole! \\n\\nGo fuck yourself! Dirty ...   \n",
       "\n",
       "        toxic  severe_toxic  obscene  threat  insult  identity_hate  \n",
       "43801       1             0        1       1       1              0  \n",
       "39044       1             0        1       0       1              1  \n",
       "118439      1             0        0       0       1              0  \n",
       "87900       1             0        0       0       1              0  \n",
       "80114       1             0        1       0       1              0  \n",
       "2179        1             0        1       0       1              0  \n",
       "69602       1             0        0       0       1              0  \n",
       "141337      1             0        1       0       1              1  \n",
       "87841       1             0        1       0       1              0  \n",
       "123787      1             0        1       0       1              0  \n",
       "68539       1             0        1       0       1              0  \n",
       "151362      1             1        1       0       1              0  \n",
       "115292      1             0        1       0       1              0  \n",
       "137125      1             0        1       0       1              0  \n",
       "7361        1             0        1       0       1              0  \n",
       "158507      1             0        1       0       1              0  \n",
       "147539      1             0        0       0       1              0  \n",
       "94954       1             0        1       0       1              0  \n",
       "135042      1             0        1       0       1              0  \n",
       "52371       1             1        1       0       1              0  "
      ]
     },
     "execution_count": 12,
     "metadata": {},
     "output_type": "execute_result"
    }
   ],
   "source": [
    "train[train['insult']==1].sample(20)"
   ]
  },
  {
   "cell_type": "code",
   "execution_count": 13,
   "metadata": {
    "ExecuteTime": {
     "end_time": "2019-02-26T22:03:38.236039Z",
     "start_time": "2019-02-26T22:03:38.228450Z"
    },
    "_cell_guid": "c98cd174-206c-4e72-ab3d-b623da4a8104",
    "_uuid": "355069643d5ece73c1e9c33e81fe9597cc22da60"
   },
   "outputs": [
    {
     "data": {
      "text/html": [
       "<div>\n",
       "<style scoped>\n",
       "    .dataframe tbody tr th:only-of-type {\n",
       "        vertical-align: middle;\n",
       "    }\n",
       "\n",
       "    .dataframe tbody tr th {\n",
       "        vertical-align: top;\n",
       "    }\n",
       "\n",
       "    .dataframe thead th {\n",
       "        text-align: right;\n",
       "    }\n",
       "</style>\n",
       "<table border=\"1\" class=\"dataframe\">\n",
       "  <thead>\n",
       "    <tr style=\"text-align: right;\">\n",
       "      <th></th>\n",
       "      <th>id</th>\n",
       "      <th>comment_text</th>\n",
       "    </tr>\n",
       "  </thead>\n",
       "  <tbody>\n",
       "  </tbody>\n",
       "</table>\n",
       "</div>"
      ],
      "text/plain": [
       "Empty DataFrame\n",
       "Columns: [id, comment_text]\n",
       "Index: []"
      ]
     },
     "execution_count": 13,
     "metadata": {},
     "output_type": "execute_result"
    }
   ],
   "source": [
    "test[test['comment_text'].isnull()]"
   ]
  },
  {
   "cell_type": "code",
   "execution_count": 11,
   "metadata": {
    "_cell_guid": "4d25365e-ef74-4599-a3cb-817d463ad579",
    "_uuid": "efa95d3ee5633a49e412e18d5034dfcd0281c08b"
   },
   "outputs": [
    {
     "data": {
      "text/plain": [
       "21"
      ]
     },
     "execution_count": 11,
     "metadata": {},
     "output_type": "execute_result"
    }
   ],
   "source": [
    "test.fillna(' ',inplace=True)\n",
    "gc.collect()"
   ]
  },
  {
   "cell_type": "code",
   "execution_count": null,
   "metadata": {},
   "outputs": [],
   "source": []
  }
 ],
 "metadata": {
  "kernelspec": {
   "display_name": "Python 3",
   "language": "python",
   "name": "python3"
  },
  "language_info": {
   "codemirror_mode": {
    "name": "ipython",
    "version": 3
   },
   "file_extension": ".py",
   "mimetype": "text/x-python",
   "name": "python",
   "nbconvert_exporter": "python",
   "pygments_lexer": "ipython3",
   "version": "3.7.1"
  }
 },
 "nbformat": 4,
 "nbformat_minor": 1
}
