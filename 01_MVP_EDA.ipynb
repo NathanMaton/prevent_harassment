{
 "cells": [
  {
   "cell_type": "markdown",
   "metadata": {
    "_cell_guid": "d894877c-753f-4947-a6a0-8c100b8af6b2",
    "_uuid": "3a208d285d49bbe7c35827de8416e3b7c5c061ae"
   },
   "source": [
    "## Toxic comment classification\n",
    "### Import library"
   ]
  },
  {
   "cell_type": "code",
   "execution_count": 1,
   "metadata": {
    "_cell_guid": "fd0d94af-8dcd-4258-92fc-d1c304215a9a",
    "_uuid": "d2539467b6d1fa164da8c43825cd30a124eb9c47"
   },
   "outputs": [],
   "source": [
    "import pandas as pd\n",
    "import numpy as np\n",
    "import matplotlib.pyplot as plt\n",
    "import seaborn as sns\n",
    "import gc\n",
    "\n",
    "from sklearn.linear_model import LogisticRegression\n",
    "from sklearn.model_selection import StratifiedKFold\n",
    "from sklearn.feature_extraction.text import CountVectorizer,TfidfVectorizer\n",
    "from sklearn.decomposition import TruncatedSVD\n",
    "from sklearn.metrics import log_loss,confusion_matrix,classification_report,roc_curve,auc\n",
    "\n",
    "import string\n",
    "import nltk\n",
    "from nltk.corpus import stopwords\n",
    "from nltk.tokenize import word_tokenize\n",
    "from scipy import sparse\n",
    "%matplotlib inline\n",
    "seed = 42\n",
    "import os\n",
    "os.environ['OMP_NUM_THREADS'] = '4'\n"
   ]
  },
  {
   "cell_type": "markdown",
   "metadata": {
    "_cell_guid": "b4043cdf-f986-42bc-ad09-ea124e152507",
    "_uuid": "6b388128bf18f28c29d66377e9deb5f1ea8067f1"
   },
   "source": [
    "## Read data set"
   ]
  },
  {
   "cell_type": "code",
   "execution_count": 2,
   "metadata": {
    "_cell_guid": "7ce644b7-5332-40d7-a827-15f6897be5e8",
    "_uuid": "d1134807fc7b6c604f7fbdd42e0f27e69a834337"
   },
   "outputs": [
    {
     "name": "stdout",
     "output_type": "stream",
     "text": [
      "Number of rows and columns in the train data set: (159571, 8)\n",
      "Number of rows and columns in the test data set: (153164, 2)\n"
     ]
    }
   ],
   "source": [
    "#path = 'file/'\n",
    "train = pd.read_csv('toxicity_data/train.csv')\n",
    "test = pd.read_csv('toxicity_data/test.csv')\n",
    "print('Number of rows and columns in the train data set:',train.shape)\n",
    "print('Number of rows and columns in the test data set:',test.shape)"
   ]
  },
  {
   "cell_type": "code",
   "execution_count": 3,
   "metadata": {
    "_cell_guid": "eb785423-8577-48d9-a86e-4fd9481bc8f6",
    "_uuid": "84cefe22c6dfbbe24eeb0bc7c1c21fcfd3fcb740"
   },
   "outputs": [],
   "source": [
    "raw_train = train"
   ]
  },
  {
   "cell_type": "code",
   "execution_count": 4,
   "metadata": {
    "_uuid": "b6310c599dd29b634e49616f307e96238dc5fbbf"
   },
   "outputs": [],
   "source": [
    "train = train.sample(5000)\n",
    "#train[train['toxic']==1].values[:5]"
   ]
  },
  {
   "cell_type": "code",
   "execution_count": 5,
   "metadata": {
    "_cell_guid": "e4f801c8-e33a-4e4c-98a3-12968f901e21",
    "_uuid": "d0bf31b06e2070eb5650d5340156cf1b48ef868a"
   },
   "outputs": [],
   "source": [
    "raw_test = test"
   ]
  },
  {
   "cell_type": "code",
   "execution_count": 6,
   "metadata": {
    "_uuid": "c9d2e1e263f8a21274961f85af77d4f15baf2135"
   },
   "outputs": [],
   "source": [
    "test = test.sample(5000)"
   ]
  },
  {
   "cell_type": "markdown",
   "metadata": {
    "_cell_guid": "7ec565a2-44cb-41f6-9802-529f8e18caf7",
    "_uuid": "d7572f8e731423a9316e14c902e9452481e499ea"
   },
   "source": [
    "## Target varaible distribution"
   ]
  },
  {
   "cell_type": "code",
   "execution_count": 7,
   "metadata": {
    "_cell_guid": "00eb2283-6c71-49a6-a022-ec6cbe766b5f",
    "_uuid": "ca98b9659f06db8fdf772d7dc4c296e4abfbe07e"
   },
   "outputs": [
    {
     "data": {
      "image/png": "[encoded data removed]",
      "text/plain": [
       "<Figure size 1152x720 with 6 Axes>"
      ]
     },
     "metadata": {
      "needs_background": "light"
     },
     "output_type": "display_data"
    }
   ],
   "source": [
    "fig,ax = plt.subplots(2,3,figsize=(16,10))\n",
    "ax1,ax2,ax3,ax4,ax5,ax6 = ax.flatten()\n",
    "sns.countplot(train['toxic'],palette= 'magma',ax=ax1)\n",
    "sns.countplot(train['severe_toxic'], palette= 'viridis',ax=ax2)\n",
    "sns.countplot(train['obscene'], palette= 'Set1',ax=ax3)\n",
    "sns.countplot(train['threat'], palette= 'viridis',ax = ax4)\n",
    "sns.countplot(train['insult'], palette = 'magma',ax=ax5)\n",
    "sns.countplot(train['identity_hate'], palette = 'Set1', ax = ax6);"
   ]
  },
  {
   "cell_type": "markdown",
   "metadata": {
    "_cell_guid": "a5e602da-066e-43fb-91db-a4d82d1c1f62",
    "_uuid": "032e7b13a31d69671e2717b92106e1863acb2753"
   },
   "source": [
    "## Missing value"
   ]
  },
  {
   "cell_type": "code",
   "execution_count": 8,
   "metadata": {
    "_cell_guid": "165e27b1-1c85-4b28-a208-7c5fc62e7d74",
    "_uuid": "92323d9f1b9ef78ecbd90d0df21258402b7a620e"
   },
   "outputs": [
    {
     "data": {
      "text/html": [
       "<div>\n",
       "<style scoped>\n",
       "    .dataframe tbody tr th:only-of-type {\n",
       "        vertical-align: middle;\n",
       "    }\n",
       "\n",
       "    .dataframe tbody tr th {\n",
       "        vertical-align: top;\n",
       "    }\n",
       "\n",
       "    .dataframe thead th {\n",
       "        text-align: right;\n",
       "    }\n",
       "</style>\n",
       "<table border=\"1\" class=\"dataframe\">\n",
       "  <thead>\n",
       "    <tr style=\"text-align: right;\">\n",
       "      <th></th>\n",
       "      <th>train</th>\n",
       "      <th>test</th>\n",
       "    </tr>\n",
       "  </thead>\n",
       "  <tbody>\n",
       "    <tr>\n",
       "      <th>id</th>\n",
       "      <td>0</td>\n",
       "      <td>0.0</td>\n",
       "    </tr>\n",
       "    <tr>\n",
       "      <th>comment_text</th>\n",
       "      <td>0</td>\n",
       "      <td>0.0</td>\n",
       "    </tr>\n",
       "    <tr>\n",
       "      <th>toxic</th>\n",
       "      <td>0</td>\n",
       "      <td>NaN</td>\n",
       "    </tr>\n",
       "    <tr>\n",
       "      <th>severe_toxic</th>\n",
       "      <td>0</td>\n",
       "      <td>NaN</td>\n",
       "    </tr>\n",
       "    <tr>\n",
       "      <th>obscene</th>\n",
       "      <td>0</td>\n",
       "      <td>NaN</td>\n",
       "    </tr>\n",
       "    <tr>\n",
       "      <th>threat</th>\n",
       "      <td>0</td>\n",
       "      <td>NaN</td>\n",
       "    </tr>\n",
       "    <tr>\n",
       "      <th>insult</th>\n",
       "      <td>0</td>\n",
       "      <td>NaN</td>\n",
       "    </tr>\n",
       "    <tr>\n",
       "      <th>identity_hate</th>\n",
       "      <td>0</td>\n",
       "      <td>NaN</td>\n",
       "    </tr>\n",
       "  </tbody>\n",
       "</table>\n",
       "</div>"
      ],
      "text/plain": [
       "               train  test\n",
       "id                 0   0.0\n",
       "comment_text       0   0.0\n",
       "toxic              0   NaN\n",
       "severe_toxic       0   NaN\n",
       "obscene            0   NaN\n",
       "threat             0   NaN\n",
       "insult             0   NaN\n",
       "identity_hate      0   NaN"
      ]
     },
     "execution_count": 8,
     "metadata": {},
     "output_type": "execute_result"
    }
   ],
   "source": [
    "k = pd.DataFrame()\n",
    "k['train'] = train.isnull().sum()\n",
    "k['test'] = test.isnull().sum()\n",
    "k"
   ]
  },
  {
   "cell_type": "code",
   "execution_count": 9,
   "metadata": {},
   "outputs": [
    {
     "data": {
      "text/html": [
       "<div>\n",
       "<style scoped>\n",
       "    .dataframe tbody tr th:only-of-type {\n",
       "        vertical-align: middle;\n",
       "    }\n",
       "\n",
       "    .dataframe tbody tr th {\n",
       "        vertical-align: top;\n",
       "    }\n",
       "\n",
       "    .dataframe thead th {\n",
       "        text-align: right;\n",
       "    }\n",
       "</style>\n",
       "<table border=\"1\" class=\"dataframe\">\n",
       "  <thead>\n",
       "    <tr style=\"text-align: right;\">\n",
       "      <th></th>\n",
       "      <th>id</th>\n",
       "      <th>comment_text</th>\n",
       "      <th>toxic</th>\n",
       "      <th>severe_toxic</th>\n",
       "      <th>obscene</th>\n",
       "      <th>threat</th>\n",
       "      <th>insult</th>\n",
       "      <th>identity_hate</th>\n",
       "    </tr>\n",
       "  </thead>\n",
       "  <tbody>\n",
       "    <tr>\n",
       "      <th>66305</th>\n",
       "      <td>b163b7e69f3a603c</td>\n",
       "      <td>I hate you. U are a homosapian. Breasts</td>\n",
       "      <td>1</td>\n",
       "      <td>0</td>\n",
       "      <td>0</td>\n",
       "      <td>0</td>\n",
       "      <td>1</td>\n",
       "      <td>1</td>\n",
       "    </tr>\n",
       "    <tr>\n",
       "      <th>16388</th>\n",
       "      <td>2b315d5c360f2f84</td>\n",
       "      <td>Whatever, dude. Fuck off.</td>\n",
       "      <td>1</td>\n",
       "      <td>0</td>\n",
       "      <td>1</td>\n",
       "      <td>0</td>\n",
       "      <td>1</td>\n",
       "      <td>0</td>\n",
       "    </tr>\n",
       "    <tr>\n",
       "      <th>111362</th>\n",
       "      <td>53d6aa0821dc3ede</td>\n",
       "      <td>EVERYONE BELOW CAN SUCK MY COCK, AS I HAVE A D...</td>\n",
       "      <td>1</td>\n",
       "      <td>0</td>\n",
       "      <td>1</td>\n",
       "      <td>0</td>\n",
       "      <td>1</td>\n",
       "      <td>0</td>\n",
       "    </tr>\n",
       "    <tr>\n",
       "      <th>60958</th>\n",
       "      <td>a3380d5f77a713f0</td>\n",
       "      <td>FUCK YOU Jdelanoy. You are German COCK SUCKER ...</td>\n",
       "      <td>1</td>\n",
       "      <td>0</td>\n",
       "      <td>1</td>\n",
       "      <td>0</td>\n",
       "      <td>1</td>\n",
       "      <td>1</td>\n",
       "    </tr>\n",
       "    <tr>\n",
       "      <th>59857</th>\n",
       "      <td>a046697fb2ccc104</td>\n",
       "      <td>If you'd ever had heroin-coated condoms during...</td>\n",
       "      <td>1</td>\n",
       "      <td>0</td>\n",
       "      <td>1</td>\n",
       "      <td>0</td>\n",
       "      <td>1</td>\n",
       "      <td>0</td>\n",
       "    </tr>\n",
       "    <tr>\n",
       "      <th>99673</th>\n",
       "      <td>1537771dae396196</td>\n",
       "      <td>You are contradicting your own sources, as the...</td>\n",
       "      <td>1</td>\n",
       "      <td>0</td>\n",
       "      <td>1</td>\n",
       "      <td>0</td>\n",
       "      <td>1</td>\n",
       "      <td>0</td>\n",
       "    </tr>\n",
       "    <tr>\n",
       "      <th>154322</th>\n",
       "      <td>ac475292a6b9504d</td>\n",
       "      <td>Asian Gaylord \\n\\nHello, could you please expl...</td>\n",
       "      <td>1</td>\n",
       "      <td>0</td>\n",
       "      <td>1</td>\n",
       "      <td>0</td>\n",
       "      <td>1</td>\n",
       "      <td>1</td>\n",
       "    </tr>\n",
       "    <tr>\n",
       "      <th>56310</th>\n",
       "      <td>967a50ad6ec2b46c</td>\n",
       "      <td>Your a twat, you just delete things that you d...</td>\n",
       "      <td>1</td>\n",
       "      <td>0</td>\n",
       "      <td>1</td>\n",
       "      <td>1</td>\n",
       "      <td>1</td>\n",
       "      <td>0</td>\n",
       "    </tr>\n",
       "    <tr>\n",
       "      <th>49173</th>\n",
       "      <td>8375470153d3cd79</td>\n",
       "      <td>FINE BITCH&lt; THAT SHOULD GET YOUR ATTENTION</td>\n",
       "      <td>1</td>\n",
       "      <td>0</td>\n",
       "      <td>1</td>\n",
       "      <td>0</td>\n",
       "      <td>1</td>\n",
       "      <td>0</td>\n",
       "    </tr>\n",
       "    <tr>\n",
       "      <th>133338</th>\n",
       "      <td>c956de0c715fd0e5</td>\n",
       "      <td>Hey, fuck you. \\n\\nThat information was true, ...</td>\n",
       "      <td>1</td>\n",
       "      <td>0</td>\n",
       "      <td>1</td>\n",
       "      <td>0</td>\n",
       "      <td>1</td>\n",
       "      <td>0</td>\n",
       "    </tr>\n",
       "    <tr>\n",
       "      <th>13705</th>\n",
       "      <td>24319497c564babc</td>\n",
       "      <td>HOCKEY STICK UP YOUR ASS \\n\\nHOW DARE YOU ACCU...</td>\n",
       "      <td>1</td>\n",
       "      <td>1</td>\n",
       "      <td>1</td>\n",
       "      <td>0</td>\n",
       "      <td>1</td>\n",
       "      <td>0</td>\n",
       "    </tr>\n",
       "    <tr>\n",
       "      <th>21459</th>\n",
       "      <td>388ebf7f90a4d8bc</td>\n",
       "      <td>\"\\ntry these important things and maybe you wo...</td>\n",
       "      <td>1</td>\n",
       "      <td>0</td>\n",
       "      <td>1</td>\n",
       "      <td>0</td>\n",
       "      <td>1</td>\n",
       "      <td>1</td>\n",
       "    </tr>\n",
       "    <tr>\n",
       "      <th>51076</th>\n",
       "      <td>889e52b460032f2f</td>\n",
       "      <td>i have know idiots before but nothing quite li...</td>\n",
       "      <td>1</td>\n",
       "      <td>0</td>\n",
       "      <td>1</td>\n",
       "      <td>0</td>\n",
       "      <td>1</td>\n",
       "      <td>0</td>\n",
       "    </tr>\n",
       "    <tr>\n",
       "      <th>84881</th>\n",
       "      <td>e3238e3e9572fb07</td>\n",
       "      <td>Your Edit \\n\\nPlease refrain from sucking cock...</td>\n",
       "      <td>1</td>\n",
       "      <td>0</td>\n",
       "      <td>1</td>\n",
       "      <td>0</td>\n",
       "      <td>1</td>\n",
       "      <td>1</td>\n",
       "    </tr>\n",
       "    <tr>\n",
       "      <th>3962</th>\n",
       "      <td>0a8ff5b15e5089c2</td>\n",
       "      <td>i'll hook your mom you motherfucker. yeah suck...</td>\n",
       "      <td>1</td>\n",
       "      <td>0</td>\n",
       "      <td>1</td>\n",
       "      <td>0</td>\n",
       "      <td>1</td>\n",
       "      <td>0</td>\n",
       "    </tr>\n",
       "    <tr>\n",
       "      <th>104839</th>\n",
       "      <td>30e6351f6e0b72e4</td>\n",
       "      <td>Why the fuck do you keep changing it dick</td>\n",
       "      <td>1</td>\n",
       "      <td>1</td>\n",
       "      <td>1</td>\n",
       "      <td>0</td>\n",
       "      <td>1</td>\n",
       "      <td>0</td>\n",
       "    </tr>\n",
       "    <tr>\n",
       "      <th>30086</th>\n",
       "      <td>4fddbaf3757d379a</td>\n",
       "      <td>because stupid assumptions like your faggot go...</td>\n",
       "      <td>1</td>\n",
       "      <td>0</td>\n",
       "      <td>1</td>\n",
       "      <td>0</td>\n",
       "      <td>1</td>\n",
       "      <td>0</td>\n",
       "    </tr>\n",
       "    <tr>\n",
       "      <th>44397</th>\n",
       "      <td>76932f0348d82af8</td>\n",
       "      <td>no \\n\\nWhat the fuck did you just fucking say ...</td>\n",
       "      <td>1</td>\n",
       "      <td>0</td>\n",
       "      <td>1</td>\n",
       "      <td>1</td>\n",
       "      <td>1</td>\n",
       "      <td>0</td>\n",
       "    </tr>\n",
       "    <tr>\n",
       "      <th>149586</th>\n",
       "      <td>5e419cad3cb4fe29</td>\n",
       "      <td>YOU NASTY A Bear is Satanic Creature that is a...</td>\n",
       "      <td>1</td>\n",
       "      <td>0</td>\n",
       "      <td>1</td>\n",
       "      <td>0</td>\n",
       "      <td>1</td>\n",
       "      <td>0</td>\n",
       "    </tr>\n",
       "    <tr>\n",
       "      <th>87547</th>\n",
       "      <td>ea2fde2aaa5e5e5f</td>\n",
       "      <td>Joseph\\nJudas Priest\\n\\nmotherfucker\\n\\nshit\\n...</td>\n",
       "      <td>1</td>\n",
       "      <td>0</td>\n",
       "      <td>1</td>\n",
       "      <td>0</td>\n",
       "      <td>1</td>\n",
       "      <td>0</td>\n",
       "    </tr>\n",
       "  </tbody>\n",
       "</table>\n",
       "</div>"
      ],
      "text/plain": [
       "                      id                                       comment_text  \\\n",
       "66305   b163b7e69f3a603c            I hate you. U are a homosapian. Breasts   \n",
       "16388   2b315d5c360f2f84                          Whatever, dude. Fuck off.   \n",
       "111362  53d6aa0821dc3ede  EVERYONE BELOW CAN SUCK MY COCK, AS I HAVE A D...   \n",
       "60958   a3380d5f77a713f0  FUCK YOU Jdelanoy. You are German COCK SUCKER ...   \n",
       "59857   a046697fb2ccc104  If you'd ever had heroin-coated condoms during...   \n",
       "99673   1537771dae396196  You are contradicting your own sources, as the...   \n",
       "154322  ac475292a6b9504d  Asian Gaylord \\n\\nHello, could you please expl...   \n",
       "56310   967a50ad6ec2b46c  Your a twat, you just delete things that you d...   \n",
       "49173   8375470153d3cd79         FINE BITCH< THAT SHOULD GET YOUR ATTENTION   \n",
       "133338  c956de0c715fd0e5  Hey, fuck you. \\n\\nThat information was true, ...   \n",
       "13705   24319497c564babc  HOCKEY STICK UP YOUR ASS \\n\\nHOW DARE YOU ACCU...   \n",
       "21459   388ebf7f90a4d8bc  \"\\ntry these important things and maybe you wo...   \n",
       "51076   889e52b460032f2f  i have know idiots before but nothing quite li...   \n",
       "84881   e3238e3e9572fb07  Your Edit \\n\\nPlease refrain from sucking cock...   \n",
       "3962    0a8ff5b15e5089c2  i'll hook your mom you motherfucker. yeah suck...   \n",
       "104839  30e6351f6e0b72e4          Why the fuck do you keep changing it dick   \n",
       "30086   4fddbaf3757d379a  because stupid assumptions like your faggot go...   \n",
       "44397   76932f0348d82af8  no \\n\\nWhat the fuck did you just fucking say ...   \n",
       "149586  5e419cad3cb4fe29  YOU NASTY A Bear is Satanic Creature that is a...   \n",
       "87547   ea2fde2aaa5e5e5f  Joseph\\nJudas Priest\\n\\nmotherfucker\\n\\nshit\\n...   \n",
       "\n",
       "        toxic  severe_toxic  obscene  threat  insult  identity_hate  \n",
       "66305       1             0        0       0       1              1  \n",
       "16388       1             0        1       0       1              0  \n",
       "111362      1             0        1       0       1              0  \n",
       "60958       1             0        1       0       1              1  \n",
       "59857       1             0        1       0       1              0  \n",
       "99673       1             0        1       0       1              0  \n",
       "154322      1             0        1       0       1              1  \n",
       "56310       1             0        1       1       1              0  \n",
       "49173       1             0        1       0       1              0  \n",
       "133338      1             0        1       0       1              0  \n",
       "13705       1             1        1       0       1              0  \n",
       "21459       1             0        1       0       1              1  \n",
       "51076       1             0        1       0       1              0  \n",
       "84881       1             0        1       0       1              1  \n",
       "3962        1             0        1       0       1              0  \n",
       "104839      1             1        1       0       1              0  \n",
       "30086       1             0        1       0       1              0  \n",
       "44397       1             0        1       1       1              0  \n",
       "149586      1             0        1       0       1              0  \n",
       "87547       1             0        1       0       1              0  "
      ]
     },
     "execution_count": 9,
     "metadata": {},
     "output_type": "execute_result"
    }
   ],
   "source": [
    "train[train['insult']==1].sample(20)"
   ]
  },
  {
   "cell_type": "code",
   "execution_count": 10,
   "metadata": {
    "_cell_guid": "c98cd174-206c-4e72-ab3d-b623da4a8104",
    "_uuid": "355069643d5ece73c1e9c33e81fe9597cc22da60"
   },
   "outputs": [
    {
     "data": {
      "text/html": [
       "<div>\n",
       "<style scoped>\n",
       "    .dataframe tbody tr th:only-of-type {\n",
       "        vertical-align: middle;\n",
       "    }\n",
       "\n",
       "    .dataframe tbody tr th {\n",
       "        vertical-align: top;\n",
       "    }\n",
       "\n",
       "    .dataframe thead th {\n",
       "        text-align: right;\n",
       "    }\n",
       "</style>\n",
       "<table border=\"1\" class=\"dataframe\">\n",
       "  <thead>\n",
       "    <tr style=\"text-align: right;\">\n",
       "      <th></th>\n",
       "      <th>id</th>\n",
       "      <th>comment_text</th>\n",
       "    </tr>\n",
       "  </thead>\n",
       "  <tbody>\n",
       "  </tbody>\n",
       "</table>\n",
       "</div>"
      ],
      "text/plain": [
       "Empty DataFrame\n",
       "Columns: [id, comment_text]\n",
       "Index: []"
      ]
     },
     "execution_count": 10,
     "metadata": {},
     "output_type": "execute_result"
    }
   ],
   "source": [
    "test[test['comment_text'].isnull()]"
   ]
  },
  {
   "cell_type": "code",
   "execution_count": 11,
   "metadata": {
    "_cell_guid": "4d25365e-ef74-4599-a3cb-817d463ad579",
    "_uuid": "efa95d3ee5633a49e412e18d5034dfcd0281c08b"
   },
   "outputs": [
    {
     "data": {
      "text/plain": [
       "21"
      ]
     },
     "execution_count": 11,
     "metadata": {},
     "output_type": "execute_result"
    }
   ],
   "source": [
    "test.fillna(' ',inplace=True)\n",
    "gc.collect()"
   ]
  },
  {
   "cell_type": "code",
   "execution_count": null,
   "metadata": {},
   "outputs": [],
   "source": []
  }
 ],
 "metadata": {
  "kernelspec": {
   "display_name": "Python 3",
   "language": "python",
   "name": "python3"
  },
  "language_info": {
   "codemirror_mode": {
    "name": "ipython",
    "version": 3
   },
   "file_extension": ".py",
   "mimetype": "text/x-python",
   "name": "python",
   "nbconvert_exporter": "python",
   "pygments_lexer": "ipython3",
   "version": "3.7.1"
  }
 },
 "nbformat": 4,
 "nbformat_minor": 1
}
