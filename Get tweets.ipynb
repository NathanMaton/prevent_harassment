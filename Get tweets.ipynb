{
 "cells": [
  {
   "cell_type": "markdown",
   "metadata": {},
   "source": [
    "## Get tweets!"
   ]
  },
  {
   "cell_type": "code",
   "execution_count": 1,
   "metadata": {},
   "outputs": [],
   "source": [
    "from pymongo import MongoClient, InsertOne, DeleteOne, ReplaceOne\n",
    "import requests\n",
    "from requests_oauthlib import OAuth1\n",
    "import cnfg\n",
    "from pprint import pprint\n",
    "import json\n",
    "import tweepy"
   ]
  },
  {
   "cell_type": "code",
   "execution_count": 2,
   "metadata": {},
   "outputs": [],
   "source": [
    "client = MongoClient()\n",
    "db = client[\"tweets\"]\n",
    "#db.create_collection(\"tweet_test\")\n",
    "tweets_collection = db.get_collection('tweet_test')\n"
   ]
  },
  {
   "cell_type": "code",
   "execution_count": 9,
   "metadata": {},
   "outputs": [],
   "source": [
    "config = cnfg.load(\".twitter_config\")\n",
    "\n",
    "oauth = OAuth1(config[\"consumer_key\"],\n",
    "               config[\"consumer_secret\"],\n",
    "               config[\"access_token\"],\n",
    "               config[\"access_token_secret\"])\n",
    "\n",
    "auth = tweepy.OAuthHandler(config[\"consumer_key\"],\n",
    "                           config[\"consumer_secret\"])\n",
    "auth.set_access_token(config[\"access_token\"],\n",
    "                      config[\"access_token_secret\"])\n",
    "\n",
    "api=tweepy.API(auth)"
   ]
  },
  {
   "cell_type": "code",
   "execution_count": null,
   "metadata": {},
   "outputs": [],
   "source": [
    "from tweepy import Stream\n",
    "from tweepy.streaming import StreamListener"
   ]
  },
  {
   "cell_type": "code",
   "execution_count": null,
   "metadata": {},
   "outputs": [],
   "source": [
    "class listener(StreamListener):\n",
    "    def on_data(self, data):\n",
    "        data = json.loads(data)\n",
    "        tweets_collection.insert_one(data)\n",
    "\n",
    "#        # Pull the fields we want, and throw it into our mongodb database\n",
    "#        if data['lang'] == 'en':\n",
    "#            tweet_document = {}\n",
    "\n",
    "#            tweet_document['created_at'] = data[‘created_at’]\n",
    "#            tweet_document[‘favorite_count’] = data[‘favorite_count’]\n",
    "#            tweet_document[‘retweet_count’] = data[‘retweet_count’]\n",
    "\n",
    "#            #Get full text if it is an extended tweet\n",
    "#            if ‘extended_tweet’ in data.keys():\n",
    "#                tweet_document[‘text’] = data[‘extended_tweet’][‘full_text’]\n",
    "#            else:\n",
    "#                tweet_document[‘text’] = data[‘text’]\n",
    "\n",
    "#            tweet_document[‘screen_name’] = data[‘user’][‘screen_name’]\n",
    "\n",
    "#            text = TextBlob(tweet_document[‘text’]).sentiment\n",
    "\n",
    "#            tweet_document[‘sentiment’] = text.polarity\n",
    "#            tweet_document[‘subjectivity’] = text.subjectivity\n",
    "\n",
    "#           # print(tweet_document)\n",
    "#           # print(‘\\n’)\n",
    "#            tweet_collection.insert_one(tweet_document)\n",
    "        return True\n",
    "    def on_error(self, status):\n",
    "        print(status)"
   ]
  },
  {
   "cell_type": "code",
   "execution_count": null,
   "metadata": {},
   "outputs": [],
   "source": [
    "twitterStream = Stream(auth, listener())\n",
    "data = twitterStream.filter(track=privacy_search)"
   ]
  },
  {
   "cell_type": "code",
   "execution_count": null,
   "metadata": {},
   "outputs": [],
   "source": []
  },
  {
   "cell_type": "code",
   "execution_count": 42,
   "metadata": {},
   "outputs": [],
   "source": [
    "#check api limits --- probably not necessary with streaming data\n",
    "import requests\n",
    "from application_only_auth import Client\n",
    "consumer_key = config['consumer_key']\n",
    "consumer_secret = config['consumer_secret']\n",
    "client = Client(consumer_key, consumer_secret)\n",
    "response = client.request(\n",
    "    \"https://api.twitter.com/1.1/application/rate_limit_status.json?resources=help,users,search,statuses\")\n",
    "response['resources']['search']"
   ]
  },
  {
   "cell_type": "markdown",
   "metadata": {},
   "source": [
    "## Old code"
   ]
  },
  {
   "cell_type": "code",
   "execution_count": null,
   "metadata": {},
   "outputs": [],
   "source": [
    "# old search I tried on non-streaming API, use with caution or you may get your api key banned\n",
    "privacy_search = 'facebook OR (data AND privacy) OR (data AND security) OR (data AND leak) OR (privacy AND violation)'\n",
    "\n",
    "results=[]\n",
    "\n",
    "for tweet in tweepy.Cursor(api.search,q=privacy_search).items(200):\n",
    "    results.append(tweet)\n",
    "    \n",
    "for tweet in results:\n",
    "    print (tweet._json['id'])\n",
    "    if (tweets_collection.find_one({'id':tweet._json['id']})): \n",
    "        print ('result already in db')\n",
    "    else:\n",
    "        print('inserting new result')\n",
    "        tweets_collection.insert_one(tweet._json)\n"
   ]
  },
  {
   "cell_type": "code",
   "execution_count": 58,
   "metadata": {},
   "outputs": [
    {
     "data": {
      "text/plain": [
       "1"
      ]
     },
     "execution_count": 58,
     "metadata": {},
     "output_type": "execute_result"
    }
   ],
   "source": [
    "#figuring things out code\n",
    "tweets_collection.count()\n",
    "len(list(tweets_collection.find({'id':1098020699694870529})))\n",
    "if (tweets_collection.find_one({'id':1013755030401026})):\n",
    "    print (True)\n",
    "else:\n",
    "    print (False)"
   ]
  },
  {
   "cell_type": "code",
   "execution_count": 90,
   "metadata": {},
   "outputs": [
    {
     "data": {
      "text/plain": [
       "51895"
      ]
     },
     "execution_count": 90,
     "metadata": {},
     "output_type": "execute_result"
    }
   ],
   "source": [
    "#len(list(tweets_collection.find({},{'id'}))) #checks length of db in a dumb way\n",
    "len(tweets_collection.distinct( \"id\" )) #checks for unique items"
   ]
  },
  {
   "cell_type": "code",
   "execution_count": 91,
   "metadata": {},
   "outputs": [
    {
     "name": "stderr",
     "output_type": "stream",
     "text": [
      "/home/ubuntu/anaconda3/lib/python3.7/site-packages/ipykernel_launcher.py:1: DeprecationWarning: count is deprecated. Use estimated_document_count or count_documents instead. Please note that $where must be replaced by $expr, $near must be replaced by $geoWithin with $center, and $nearSphere must be replaced by $geoWithin with $centerSphere\n",
      "  \"\"\"Entry point for launching an IPython kernel.\n"
     ]
    },
    {
     "data": {
      "text/plain": [
       "52959"
      ]
     },
     "execution_count": 91,
     "metadata": {},
     "output_type": "execute_result"
    }
   ],
   "source": [
    "tweets_collection.count() #there are a few dupes"
   ]
  },
  {
   "cell_type": "code",
   "execution_count": null,
   "metadata": {},
   "outputs": [],
   "source": []
  }
 ],
 "metadata": {
  "anaconda-cloud": {},
  "kernelspec": {
   "display_name": "Python 3",
   "language": "python",
   "name": "python3"
  },
  "language_info": {
   "codemirror_mode": {
    "name": "ipython",
    "version": 3
   },
   "file_extension": ".py",
   "mimetype": "text/x-python",
   "name": "python",
   "nbconvert_exporter": "python",
   "pygments_lexer": "ipython3",
   "version": "3.7.1"
  },
  "toc": {
   "colors": {
    "hover_highlight": "#DAA520",
    "navigate_num": "#000000",
    "navigate_text": "#333333",
    "running_highlight": "#FF0000",
    "selected_highlight": "#FFD700",
    "sidebar_border": "#EEEEEE",
    "wrapper_background": "#FFFFFF"
   },
   "moveMenuLeft": false,
   "nav_menu": {
    "height": "48px",
    "width": "252px"
   },
   "navigate_menu": true,
   "number_sections": false,
   "sideBar": false,
   "threshold": "3",
   "toc_cell": false,
   "toc_section_display": "block",
   "toc_window_display": false,
   "widenNotebook": false
  }
 },
 "nbformat": 4,
 "nbformat_minor": 1
}
